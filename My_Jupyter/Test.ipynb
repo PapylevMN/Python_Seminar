{
 "cells": [
  {
   "cell_type": "code",
   "execution_count": 26,
   "id": "38e42769",
   "metadata": {},
   "outputs": [],
   "source": [
    "import sympy as sp\n"
   ]
  },
  {
   "cell_type": "code",
   "execution_count": 27,
   "id": "b12c3593",
   "metadata": {},
   "outputs": [
    {
     "data": {
      "text/latex": [
       "$\\displaystyle x^{3} - 3 x + 4 y^{3} - 3 y$"
      ],
      "text/plain": [
       "x**3 - 3*x + 4*y**3 - 3*y"
      ]
     },
     "execution_count": 27,
     "metadata": {},
     "output_type": "execute_result"
    }
   ],
   "source": [
    "x = sp.Symbol('x')\n",
    "y = sp.Symbol('y')\n",
    "func = x**3+4*y**3-3*x-3*y\n",
    "func"
   ]
  },
  {
   "cell_type": "code",
   "execution_count": 31,
   "id": "a17dc1cf",
   "metadata": {},
   "outputs": [
    {
     "ename": "ValueError",
     "evalue": "The same variable should be used in all univariate expressions being plotted.",
     "output_type": "error",
     "traceback": [
      "\u001b[1;31m---------------------------------------------------------------------------\u001b[0m",
      "\u001b[1;31mValueError\u001b[0m                                Traceback (most recent call last)",
      "Input \u001b[1;32mIn [31]\u001b[0m, in \u001b[0;36m<cell line: 1>\u001b[1;34m()\u001b[0m\n\u001b[1;32m----> 1\u001b[0m \u001b[43msp\u001b[49m\u001b[38;5;241;43m.\u001b[39;49m\u001b[43mplot\u001b[49m\u001b[43m(\u001b[49m\u001b[43mfunc\u001b[49m\u001b[43m,\u001b[49m\u001b[43mx\u001b[49m\u001b[43m,\u001b[49m\u001b[43my\u001b[49m\u001b[43m)\u001b[49m\n",
      "File \u001b[1;32mF:\\anaconda3\\lib\\site-packages\\sympy\\plotting\\plot.py:1842\u001b[0m, in \u001b[0;36mplot\u001b[1;34m(show, *args, **kwargs)\u001b[0m\n\u001b[0;32m   1840\u001b[0m         free \u001b[38;5;241m|\u001b[39m\u001b[38;5;241m=\u001b[39m a\u001b[38;5;241m.\u001b[39mfree_symbols\n\u001b[0;32m   1841\u001b[0m         \u001b[38;5;28;01mif\u001b[39;00m \u001b[38;5;28mlen\u001b[39m(free) \u001b[38;5;241m>\u001b[39m \u001b[38;5;241m1\u001b[39m:\n\u001b[1;32m-> 1842\u001b[0m             \u001b[38;5;28;01mraise\u001b[39;00m \u001b[38;5;167;01mValueError\u001b[39;00m(\n\u001b[0;32m   1843\u001b[0m                 \u001b[38;5;124m'\u001b[39m\u001b[38;5;124mThe same variable should be used in all \u001b[39m\u001b[38;5;124m'\u001b[39m\n\u001b[0;32m   1844\u001b[0m                 \u001b[38;5;124m'\u001b[39m\u001b[38;5;124munivariate expressions being plotted.\u001b[39m\u001b[38;5;124m'\u001b[39m)\n\u001b[0;32m   1845\u001b[0m x \u001b[38;5;241m=\u001b[39m free\u001b[38;5;241m.\u001b[39mpop() \u001b[38;5;28;01mif\u001b[39;00m free \u001b[38;5;28;01melse\u001b[39;00m Symbol(\u001b[38;5;124m'\u001b[39m\u001b[38;5;124mx\u001b[39m\u001b[38;5;124m'\u001b[39m)\n\u001b[0;32m   1846\u001b[0m kwargs\u001b[38;5;241m.\u001b[39msetdefault(\u001b[38;5;124m'\u001b[39m\u001b[38;5;124mxlabel\u001b[39m\u001b[38;5;124m'\u001b[39m, x\u001b[38;5;241m.\u001b[39mname)\n",
      "\u001b[1;31mValueError\u001b[0m: The same variable should be used in all univariate expressions being plotted."
     ]
    }
   ],
   "source": [
    "sp.plot(func,x,y)"
   ]
  },
  {
   "cell_type": "code",
   "execution_count": 29,
   "id": "00aeb295",
   "metadata": {},
   "outputs": [
    {
     "ename": "ValueError",
     "evalue": "\nThe independent variable must be specified for a multivariate\nequation.",
     "output_type": "error",
     "traceback": [
      "\u001b[1;31m---------------------------------------------------------------------------\u001b[0m",
      "\u001b[1;31mValueError\u001b[0m                                Traceback (most recent call last)",
      "Input \u001b[1;32mIn [29]\u001b[0m, in \u001b[0;36m<cell line: 1>\u001b[1;34m()\u001b[0m\n\u001b[1;32m----> 1\u001b[0m res \u001b[38;5;241m=\u001b[39m \u001b[38;5;28msorted\u001b[39m(\u001b[43msp\u001b[49m\u001b[38;5;241;43m.\u001b[39;49m\u001b[43msolveset\u001b[49m\u001b[43m(\u001b[49m\u001b[43mfunc\u001b[49m\u001b[43m)\u001b[49m)\n\u001b[0;32m      2\u001b[0m sp\u001b[38;5;241m.\u001b[39mpretty_print(res)\n",
      "File \u001b[1;32mF:\\anaconda3\\lib\\site-packages\\sympy\\solvers\\solveset.py:2205\u001b[0m, in \u001b[0;36msolveset\u001b[1;34m(f, symbol, domain)\u001b[0m\n\u001b[0;32m   2203\u001b[0m         symbol \u001b[38;5;241m=\u001b[39m free_symbols\u001b[38;5;241m.\u001b[39mpop()\n\u001b[0;32m   2204\u001b[0m     \u001b[38;5;28;01melif\u001b[39;00m free_symbols:\n\u001b[1;32m-> 2205\u001b[0m         \u001b[38;5;28;01mraise\u001b[39;00m \u001b[38;5;167;01mValueError\u001b[39;00m(filldedent(\u001b[38;5;124m'''\u001b[39m\n\u001b[0;32m   2206\u001b[0m \u001b[38;5;124m            The independent variable must be specified for a\u001b[39m\n\u001b[0;32m   2207\u001b[0m \u001b[38;5;124m            multivariate equation.\u001b[39m\u001b[38;5;124m'''\u001b[39m))\n\u001b[0;32m   2208\u001b[0m \u001b[38;5;28;01melif\u001b[39;00m \u001b[38;5;129;01mnot\u001b[39;00m \u001b[38;5;28misinstance\u001b[39m(symbol, Symbol):\n\u001b[0;32m   2209\u001b[0m     f, s, swap \u001b[38;5;241m=\u001b[39m recast_to_symbols([f], [symbol])\n",
      "\u001b[1;31mValueError\u001b[0m: \nThe independent variable must be specified for a multivariate\nequation."
     ]
    }
   ],
   "source": [
    "res = sorted(sp.solveset(func))\n",
    "sp.pretty_print(res)\n"
   ]
  },
  {
   "cell_type": "markdown",
   "id": "ada20a6e",
   "metadata": {},
   "source": [
    "## Определение положительныx и отрицательных диапазонов значения функции"
   ]
  },
  {
   "cell_type": "code",
   "execution_count": 14,
   "id": "fbed42c8",
   "metadata": {},
   "outputs": [],
   "source": [
    "for i in range(len(res)-1):\n",
    "    if func.subs(x, (res[i] + res[i+1])/2) > 0:\n",
    "        print(f'Функция положительна от {res[i]} до {res[i+1]}')\n",
    "    else:\n",
    "        print(f'Функция отрицательна от {res[i]} до {res[i+1]}')"
   ]
  },
  {
   "cell_type": "markdown",
   "id": "aa9bff85",
   "metadata": {},
   "source": [
    "## Определение производной"
   ]
  },
  {
   "cell_type": "code",
   "execution_count": 34,
   "id": "4cfcc330",
   "metadata": {},
   "outputs": [
    {
     "data": {
      "text/latex": [
       "$\\displaystyle 3 x^{2} - 3 = 0$"
      ],
      "text/plain": [
       "Eq(3*x**2 - 3, 0)"
      ]
     },
     "execution_count": 34,
     "metadata": {},
     "output_type": "execute_result"
    }
   ],
   "source": [
    "dif_funcx = sp.diff(func,x)\n",
    "eq1 = sp.Eq(dif_funcx, 0)\n",
    "eq1\n"
   ]
  },
  {
   "cell_type": "code",
   "execution_count": 35,
   "id": "1727a1b4",
   "metadata": {},
   "outputs": [
    {
     "data": {
      "text/latex": [
       "$\\displaystyle 12 y^{2} - 3 = 0$"
      ],
      "text/plain": [
       "Eq(12*y**2 - 3, 0)"
      ]
     },
     "execution_count": 35,
     "metadata": {},
     "output_type": "execute_result"
    }
   ],
   "source": [
    "dif_funcy = sp.diff(func,y)\n",
    "eq2 = sp.Eq(dif_funcy, 0)\n",
    "eq2"
   ]
  },
  {
   "cell_type": "code",
   "execution_count": 16,
   "id": "5434dc55",
   "metadata": {},
   "outputs": [
    {
     "data": {
      "image/png": "[encoded data removed]",
      "text/plain": [
       "<Figure size 432x288 with 1 Axes>"
      ]
     },
     "metadata": {
      "needs_background": "light"
     },
     "output_type": "display_data"
    },
    {
     "data": {
      "text/plain": [
       "<sympy.plotting.plot.Plot at 0x207f52aa970>"
      ]
     },
     "execution_count": 16,
     "metadata": {},
     "output_type": "execute_result"
    }
   ],
   "source": [
    "sp.plot(func,dif_func, (x,-sp.pi, sp.pi))"
   ]
  },
  {
   "cell_type": "markdown",
   "id": "755cfc0f",
   "metadata": {},
   "source": [
    "## Вершины функции"
   ]
  },
  {
   "cell_type": "code",
   "execution_count": 17,
   "id": "698b06e2",
   "metadata": {},
   "outputs": [
    {
     "name": "stdout",
     "output_type": "stream",
     "text": [
      "[0]\n"
     ]
    }
   ],
   "source": [
    "zer = sorted(sp.solveset(eq, x, sp.Interval(-sp.pi, sp.pi)))\n",
    "res_dif = []\n",
    "for elem in zer:\n",
    "    res_dif.append(sp.simplify(elem))\n",
    "sp.pretty_print(res_dif)"
   ]
  },
  {
   "cell_type": "markdown",
   "id": "18019f0b",
   "metadata": {},
   "source": [
    "## Периоды возрастания и убывания функции"
   ]
  },
  {
   "cell_type": "code",
   "execution_count": 20,
   "id": "4f6f77b6",
   "metadata": {},
   "outputs": [
    {
     "name": "stdout",
     "output_type": "stream",
     "text": [
      "3/80\n"
     ]
    }
   ],
   "source": [
    "print(dif_func.subs(x, 3))\n",
    "        "
   ]
  },
  {
   "cell_type": "code",
   "execution_count": 19,
   "id": "a02e1050",
   "metadata": {},
   "outputs": [],
   "source": [
    "for i in range(len(res_dif)-1):\n",
    "    if sp.is_increasing(func, sp.Interval(res_dif[i], res_dif[i+1])):\n",
    "        print(f'Функция возрастает от {res_dif[i]} до {res_dif[i+1]}')\n",
    "    else:\n",
    "        print(f'Функция уменьшается от {res_dif[i]} до {res_dif[i+1]}')\n",
    "        "
   ]
  },
  {
   "cell_type": "code",
   "execution_count": null,
   "id": "5c073b07",
   "metadata": {},
   "outputs": [],
   "source": []
  }
 ],
 "metadata": {
  "kernelspec": {
   "display_name": "Python 3 (ipykernel)",
   "language": "python",
   "name": "python3"
  },
  "language_info": {
   "codemirror_mode": {
    "name": "ipython",
    "version": 3
   },
   "file_extension": ".py",
   "mimetype": "text/x-python",
   "name": "python",
   "nbconvert_exporter": "python",
   "pygments_lexer": "ipython3",
   "version": "3.9.12"
  }
 },
 "nbformat": 4,
 "nbformat_minor": 5
}
